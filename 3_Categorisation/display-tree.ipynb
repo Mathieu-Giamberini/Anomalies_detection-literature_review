{
 "cells": [
  {
   "cell_type": "code",
   "execution_count": 1,
   "metadata": {},
   "outputs": [],
   "source": [
    "from dash import Dash, html\n",
    "import dash_cytoscape as cyto\n",
    "from openpyxl import load_workbook\n"
   ]
  },
  {
   "cell_type": "code",
   "execution_count": 2,
   "metadata": {},
   "outputs": [],
   "source": [
    "workbook = load_workbook(filename=\"Categorie-Methode liste.xlsx\", data_only=True)\n",
    "sheet = workbook.active"
   ]
  },
  {
   "cell_type": "code",
   "execution_count": 10,
   "metadata": {},
   "outputs": [],
   "source": [
    "def rangeMax(cell_range:tuple[tuple]):\n",
    "    return max([[float(cell.value) for cell in row] for row in cell_range])[0]"
   ]
  },
  {
   "cell_type": "code",
   "execution_count": 11,
   "metadata": {},
   "outputs": [
    {
     "name": "stdout",
     "output_type": "stream",
     "text": [
      "nx.html\n"
     ]
    }
   ],
   "source": [
    "from pyvis.network import Network\n",
    "import networkx as nx\n",
    "\n",
    "\n",
    "nx_graph = nx.Graph()\n",
    "index = {}\n",
    "\n",
    "i = 8\n",
    "run = True\n",
    "while run:\n",
    "    name = sheet[f\"I{i}\"].value\n",
    "    parent = sheet[f\"J{i}\"].value\n",
    "    \n",
    "    run = not (name is None and parent is None)\n",
    "    name = str(i) if name is None else name\n",
    "\n",
    "    index[name] = i \n",
    "\n",
    "    nx_graph.add_node(i, title=name, label=name, )\n",
    "    i += 1\n",
    "\n",
    "i = 8\n",
    "run = True\n",
    "while run:\n",
    "    name = sheet[f\"I{i}\"].value\n",
    "    parent = sheet[f\"J{i}\"].value\n",
    "\n",
    "    run = not (name is None and parent is None)\n",
    "    \n",
    "    depth = float(sheet[f\"K{i}\"].value)\n",
    "    max_depth = rangeMax(sheet[f\"K8:K1000\"])\n",
    "    if parent is not None :\n",
    "        nx_graph.add_edge(index[parent], i, weight=max_depth - depth)\n",
    "    i += 1\n",
    "\n",
    "nt = Network('1000px', '100%')\n",
    "\n",
    "nt.from_nx(nx_graph)\n",
    "nt.show('tree.html', notebook=False)"
   ]
  },
  {
   "cell_type": "code",
   "execution_count": null,
   "metadata": {},
   "outputs": [
    {
     "name": "stdout",
     "output_type": "stream",
     "text": [
      "nx.html\n"
     ]
    }
   ],
   "source": [
    "G = nx.Graph()\n",
    "G.add_edge(1, 2)\n",
    "G.add_edge(1, 3)\n",
    "G.add_edge(1, 5)\n",
    "G.add_edge(2, 3)\n",
    "G.add_edge(3, 4)\n",
    "G.add_edge(4, 5)\n",
    "\n",
    "\n",
    "nt = Network('1000px', '100%')\n",
    "\n",
    "nt.from_nx(G)\n",
    "nt.show('nx.html', notebook=False)"
   ]
  }
 ],
 "metadata": {
  "kernelspec": {
   "display_name": ".venv",
   "language": "python",
   "name": "python3"
  },
  "language_info": {
   "codemirror_mode": {
    "name": "ipython",
    "version": 3
   },
   "file_extension": ".py",
   "mimetype": "text/x-python",
   "name": "python",
   "nbconvert_exporter": "python",
   "pygments_lexer": "ipython3",
   "version": "3.10.4"
  }
 },
 "nbformat": 4,
 "nbformat_minor": 2
}
